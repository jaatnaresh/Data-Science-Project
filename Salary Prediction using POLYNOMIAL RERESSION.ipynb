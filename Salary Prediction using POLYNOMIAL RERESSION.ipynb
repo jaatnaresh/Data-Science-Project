{
 "cells": [
  {
   "cell_type": "markdown",
   "id": "5d177f75",
   "metadata": {},
   "source": [
    "## 1. Importing Libraries"
   ]
  },
  {
   "cell_type": "code",
   "execution_count": 1,
   "id": "584c4df6",
   "metadata": {},
   "outputs": [],
   "source": [
    "import pandas as pd"
   ]
  },
  {
   "cell_type": "markdown",
   "id": "9cbac201",
   "metadata": {},
   "source": [
    "## 2. Load Dataset"
   ]
  },
  {
   "cell_type": "code",
   "execution_count": 2,
   "id": "26cc272c",
   "metadata": {},
   "outputs": [],
   "source": [
    "df = pd.read_csv(r\"dataset.csv\")"
   ]
  },
  {
   "cell_type": "markdown",
   "id": "7007073f",
   "metadata": {},
   "source": [
    "## 3. Summarize the dataset"
   ]
  },
  {
   "cell_type": "code",
   "execution_count": 3,
   "id": "4b554620",
   "metadata": {},
   "outputs": [
    {
     "data": {
      "text/plain": [
       "(10, 2)"
      ]
     },
     "execution_count": 3,
     "metadata": {},
     "output_type": "execute_result"
    }
   ],
   "source": [
    "df.shape"
   ]
  },
  {
   "cell_type": "code",
   "execution_count": 4,
   "id": "357e243f",
   "metadata": {},
   "outputs": [
    {
     "data": {
      "text/html": [
       "<div>\n",
       "<style scoped>\n",
       "    .dataframe tbody tr th:only-of-type {\n",
       "        vertical-align: middle;\n",
       "    }\n",
       "\n",
       "    .dataframe tbody tr th {\n",
       "        vertical-align: top;\n",
       "    }\n",
       "\n",
       "    .dataframe thead th {\n",
       "        text-align: right;\n",
       "    }\n",
       "</style>\n",
       "<table border=\"1\" class=\"dataframe\">\n",
       "  <thead>\n",
       "    <tr style=\"text-align: right;\">\n",
       "      <th></th>\n",
       "      <th>Level</th>\n",
       "      <th>Salary</th>\n",
       "    </tr>\n",
       "  </thead>\n",
       "  <tbody>\n",
       "    <tr>\n",
       "      <th>0</th>\n",
       "      <td>1</td>\n",
       "      <td>45000</td>\n",
       "    </tr>\n",
       "    <tr>\n",
       "      <th>1</th>\n",
       "      <td>2</td>\n",
       "      <td>50000</td>\n",
       "    </tr>\n",
       "    <tr>\n",
       "      <th>2</th>\n",
       "      <td>3</td>\n",
       "      <td>60000</td>\n",
       "    </tr>\n",
       "    <tr>\n",
       "      <th>3</th>\n",
       "      <td>4</td>\n",
       "      <td>80000</td>\n",
       "    </tr>\n",
       "    <tr>\n",
       "      <th>4</th>\n",
       "      <td>5</td>\n",
       "      <td>110000</td>\n",
       "    </tr>\n",
       "  </tbody>\n",
       "</table>\n",
       "</div>"
      ],
      "text/plain": [
       "   Level  Salary\n",
       "0      1   45000\n",
       "1      2   50000\n",
       "2      3   60000\n",
       "3      4   80000\n",
       "4      5  110000"
      ]
     },
     "execution_count": 4,
     "metadata": {},
     "output_type": "execute_result"
    }
   ],
   "source": [
    "df.head(5)"
   ]
  },
  {
   "cell_type": "markdown",
   "id": "736f6a42",
   "metadata": {},
   "source": [
    "## 4. Segregate data into input X and output Y"
   ]
  },
  {
   "cell_type": "code",
   "execution_count": 5,
   "id": "05ed1aa2",
   "metadata": {},
   "outputs": [
    {
     "data": {
      "text/plain": [
       "array([[ 1],\n",
       "       [ 2],\n",
       "       [ 3],\n",
       "       [ 4],\n",
       "       [ 5],\n",
       "       [ 6],\n",
       "       [ 7],\n",
       "       [ 8],\n",
       "       [ 9],\n",
       "       [10]], dtype=int64)"
      ]
     },
     "execution_count": 5,
     "metadata": {},
     "output_type": "execute_result"
    }
   ],
   "source": [
    "X = df.iloc[:,:-1].values\n",
    "X"
   ]
  },
  {
   "cell_type": "code",
   "execution_count": 6,
   "id": "f0988264",
   "metadata": {},
   "outputs": [
    {
     "data": {
      "text/plain": [
       "array([  45000,   50000,   60000,   80000,  110000,  150000,  200000,\n",
       "        300000,  500000, 1000000], dtype=int64)"
      ]
     },
     "execution_count": 6,
     "metadata": {},
     "output_type": "execute_result"
    }
   ],
   "source": [
    "Y = df.iloc[:,-1].values\n",
    "Y"
   ]
  },
  {
   "cell_type": "markdown",
   "id": "be2fe03c",
   "metadata": {},
   "source": [
    "## 5. Training dataset using Linear Regression"
   ]
  },
  {
   "cell_type": "code",
   "execution_count": 7,
   "id": "792b1664",
   "metadata": {},
   "outputs": [
    {
     "data": {
      "text/plain": [
       "LinearRegression()"
      ]
     },
     "execution_count": 7,
     "metadata": {},
     "output_type": "execute_result"
    }
   ],
   "source": [
    "from sklearn.linear_model import LinearRegression\n",
    "modelLR = LinearRegression()\n",
    "modelLR.fit(X,Y)"
   ]
  },
  {
   "cell_type": "markdown",
   "id": "df84bcd2",
   "metadata": {},
   "source": [
    "## 6. Visualizing Linear Regression results"
   ]
  },
  {
   "cell_type": "code",
   "execution_count": 8,
   "id": "57c8f714",
   "metadata": {},
   "outputs": [
    {
     "data": {
      "image/png": "[encoded data removed]",
      "text/plain": [
       "<Figure size 432x288 with 1 Axes>"
      ]
     },
     "metadata": {
      "needs_background": "light"
     },
     "output_type": "display_data"
    }
   ],
   "source": [
    "import matplotlib.pyplot as plt\n",
    "plt.scatter(X, Y, color='red')   # plot the pts only\n",
    "plt.plot(X, modelLR.predict(X))  # plot the line only\n",
    "plt.title(\"Linear Regression\")\n",
    "plt.xlabel(\"Level\")\n",
    "plt.ylabel(\"Salary\")\n",
    "plt.show()"
   ]
  },
  {
   "cell_type": "markdown",
   "id": "9cc027d8",
   "metadata": {},
   "source": [
    " fit() -Training Model -calculating the initial parameters\n",
    "\n",
    "transform() - After training we gonna transform data by using above calculated values\n",
    "\n",
    "fit_transform() - First fit and transform\n",
    "\n",
    "convert X to Polynomial Format (X^n)\n",
    "\n",
    "n = degree\n",
    "\n",
    "n = 2 consist of x & x^2\n",
    "\n",
    "n = 3 consist of x & x^2 & x^3"
   ]
  },
  {
   "cell_type": "code",
   "execution_count": 9,
   "id": "b35296a1",
   "metadata": {},
   "outputs": [],
   "source": [
    "from sklearn.preprocessing import PolynomialFeatures\n",
    "modelPR = PolynomialFeatures(degree=5) #degree can be any number\n",
    "xPoly = modelPR.fit_transform(X)"
   ]
  },
  {
   "cell_type": "markdown",
   "id": "c505a354",
   "metadata": {},
   "source": [
    "## 7. Train same Linear Regression with X-Polynomial instead of X"
   ]
  },
  {
   "cell_type": "code",
   "execution_count": 10,
   "id": "eb18992d",
   "metadata": {},
   "outputs": [
    {
     "data": {
      "text/plain": [
       "LinearRegression()"
      ]
     },
     "execution_count": 10,
     "metadata": {},
     "output_type": "execute_result"
    }
   ],
   "source": [
    "modelPLR = LinearRegression()\n",
    "modelPLR.fit(xPoly,Y)"
   ]
  },
  {
   "cell_type": "markdown",
   "id": "51e2146d",
   "metadata": {},
   "source": [
    "## 8. Vizualizing Polynomial Regression results"
   ]
  },
  {
   "cell_type": "code",
   "execution_count": 11,
   "id": "2f8b8e80",
   "metadata": {},
   "outputs": [
    {
     "data": {
      "image/png": "[encoded data removed]",
      "text/plain": [
       "<Figure size 432x288 with 1 Axes>"
      ]
     },
     "metadata": {
      "needs_background": "light"
     },
     "output_type": "display_data"
    }
   ],
   "source": [
    "plt.scatter(X, Y, color='red')\n",
    "plt.plot(X, modelPLR.predict(xPoly))  # xPoly=modelPLR.fit_transform(X)\n",
    "plt.title(\"Linear Regression\")\n",
    "plt.xlabel(\"Level\")\n",
    "plt.ylabel(\"Salary\")\n",
    "plt.show()"
   ]
  },
  {
   "cell_type": "markdown",
   "id": "c54a2b5a",
   "metadata": {},
   "source": [
    "## 9. Prediction using Polynimial Regression"
   ]
  },
  {
   "cell_type": "code",
   "execution_count": 12,
   "id": "47249fcf",
   "metadata": {},
   "outputs": [
    {
     "name": "stdout",
     "output_type": "stream",
     "text": [
      "Salary of person with level 8.5 is [375829.49082166]\n"
     ]
    }
   ],
   "source": [
    "x=8.5\n",
    "salaryPred = modelPLR.predict(modelPR.fit_transform([[x]]))\n",
    "print(\"Salary of person with level {0} is {1}\".format(x,salaryPred))"
   ]
  },
  {
   "cell_type": "code",
   "execution_count": 13,
   "id": "3709f283",
   "metadata": {},
   "outputs": [
    {
     "name": "stdout",
     "output_type": "stream",
     "text": [
      "Enter Level8.5\n",
      "Salary of person with level 8.5 is [375829.49082166]\n"
     ]
    }
   ],
   "source": [
    "x=float(input(\"Enter Level\"))\n",
    "salaryPred = modelPLR.predict(modelPR.fit_transform([[x]]))\n",
    "print(\"Salary of person with level {0} is {1}\".format(x,salaryPred))"
   ]
  },
  {
   "cell_type": "code",
   "execution_count": null,
   "id": "1f4dbae4",
   "metadata": {},
   "outputs": [],
   "source": []
  }
 ],
 "metadata": {
  "kernelspec": {
   "display_name": "Python 3",
   "language": "python",
   "name": "python3"
  },
  "language_info": {
   "codemirror_mode": {
    "name": "ipython",
    "version": 3
   },
   "file_extension": ".py",
   "mimetype": "text/x-python",
   "name": "python",
   "nbconvert_exporter": "python",
   "pygments_lexer": "ipython3",
   "version": "3.8.8"
  }
 },
 "nbformat": 4,
 "nbformat_minor": 5
}
