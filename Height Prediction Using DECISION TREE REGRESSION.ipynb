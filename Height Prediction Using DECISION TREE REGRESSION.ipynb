{
 "cells": [
  {
   "cell_type": "markdown",
   "id": "b69db160",
   "metadata": {},
   "source": [
    "## 1. Import basic libraries "
   ]
  },
  {
   "cell_type": "code",
   "execution_count": 1,
   "id": "6d90f0d2",
   "metadata": {},
   "outputs": [],
   "source": [
    "import pandas as pd\n",
    "import numpy as np\n",
    "import matplotlib.pyplot as plt"
   ]
  },
  {
   "cell_type": "markdown",
   "id": "1e317f72",
   "metadata": {},
   "source": [
    "## 2. Load dataset from Local directory"
   ]
  },
  {
   "cell_type": "code",
   "execution_count": 2,
   "id": "3dd38ea2",
   "metadata": {},
   "outputs": [],
   "source": [
    "df = pd.read_csv(r\"dataset.csv\")"
   ]
  },
  {
   "cell_type": "markdown",
   "id": "7e8fdefb",
   "metadata": {},
   "source": [
    "## 3. Summarize dataset"
   ]
  },
  {
   "cell_type": "code",
   "execution_count": 3,
   "id": "3adaca81",
   "metadata": {},
   "outputs": [
    {
     "data": {
      "text/plain": [
       "(71, 2)"
      ]
     },
     "execution_count": 3,
     "metadata": {},
     "output_type": "execute_result"
    }
   ],
   "source": [
    "df.shape"
   ]
  },
  {
   "cell_type": "code",
   "execution_count": 4,
   "id": "625e5a05",
   "metadata": {},
   "outputs": [
    {
     "data": {
      "text/html": [
       "<div>\n",
       "<style scoped>\n",
       "    .dataframe tbody tr th:only-of-type {\n",
       "        vertical-align: middle;\n",
       "    }\n",
       "\n",
       "    .dataframe tbody tr th {\n",
       "        vertical-align: top;\n",
       "    }\n",
       "\n",
       "    .dataframe thead th {\n",
       "        text-align: right;\n",
       "    }\n",
       "</style>\n",
       "<table border=\"1\" class=\"dataframe\">\n",
       "  <thead>\n",
       "    <tr style=\"text-align: right;\">\n",
       "      <th></th>\n",
       "      <th>Age</th>\n",
       "      <th>Height</th>\n",
       "    </tr>\n",
       "  </thead>\n",
       "  <tbody>\n",
       "    <tr>\n",
       "      <th>0</th>\n",
       "      <td>10</td>\n",
       "      <td>138</td>\n",
       "    </tr>\n",
       "    <tr>\n",
       "      <th>1</th>\n",
       "      <td>11</td>\n",
       "      <td>138</td>\n",
       "    </tr>\n",
       "    <tr>\n",
       "      <th>2</th>\n",
       "      <td>12</td>\n",
       "      <td>138</td>\n",
       "    </tr>\n",
       "    <tr>\n",
       "      <th>3</th>\n",
       "      <td>13</td>\n",
       "      <td>139</td>\n",
       "    </tr>\n",
       "    <tr>\n",
       "      <th>4</th>\n",
       "      <td>14</td>\n",
       "      <td>139</td>\n",
       "    </tr>\n",
       "  </tbody>\n",
       "</table>\n",
       "</div>"
      ],
      "text/plain": [
       "   Age  Height\n",
       "0   10     138\n",
       "1   11     138\n",
       "2   12     138\n",
       "3   13     139\n",
       "4   14     139"
      ]
     },
     "execution_count": 4,
     "metadata": {},
     "output_type": "execute_result"
    }
   ],
   "source": [
    "df.head()"
   ]
  },
  {
   "cell_type": "markdown",
   "id": "70320c73",
   "metadata": {},
   "source": [
    "## 4. Segregate dataset into X(input) & Y(output)"
   ]
  },
  {
   "cell_type": "code",
   "execution_count": 5,
   "id": "09168208",
   "metadata": {},
   "outputs": [],
   "source": [
    "X = df.iloc[:,:-1].values"
   ]
  },
  {
   "cell_type": "code",
   "execution_count": 6,
   "id": "252259b4",
   "metadata": {},
   "outputs": [
    {
     "data": {
      "text/plain": [
       "array([[10],\n",
       "       [11],\n",
       "       [12],\n",
       "       [13],\n",
       "       [14],\n",
       "       [15],\n",
       "       [16],\n",
       "       [17],\n",
       "       [18],\n",
       "       [19],\n",
       "       [20],\n",
       "       [21],\n",
       "       [22],\n",
       "       [23],\n",
       "       [24],\n",
       "       [25],\n",
       "       [26],\n",
       "       [27],\n",
       "       [28],\n",
       "       [29],\n",
       "       [30],\n",
       "       [31],\n",
       "       [32],\n",
       "       [33],\n",
       "       [34],\n",
       "       [35],\n",
       "       [36],\n",
       "       [37],\n",
       "       [38],\n",
       "       [39],\n",
       "       [40],\n",
       "       [41],\n",
       "       [42],\n",
       "       [43],\n",
       "       [44],\n",
       "       [45],\n",
       "       [46],\n",
       "       [47],\n",
       "       [48],\n",
       "       [49],\n",
       "       [50],\n",
       "       [51],\n",
       "       [52],\n",
       "       [53],\n",
       "       [54],\n",
       "       [55],\n",
       "       [56],\n",
       "       [57],\n",
       "       [58],\n",
       "       [59],\n",
       "       [60],\n",
       "       [61],\n",
       "       [62],\n",
       "       [63],\n",
       "       [64],\n",
       "       [65],\n",
       "       [66],\n",
       "       [67],\n",
       "       [68],\n",
       "       [69],\n",
       "       [70],\n",
       "       [71],\n",
       "       [72],\n",
       "       [73],\n",
       "       [74],\n",
       "       [75],\n",
       "       [76],\n",
       "       [77],\n",
       "       [78],\n",
       "       [79],\n",
       "       [80]], dtype=int64)"
      ]
     },
     "execution_count": 6,
     "metadata": {},
     "output_type": "execute_result"
    }
   ],
   "source": [
    "X"
   ]
  },
  {
   "cell_type": "code",
   "execution_count": 7,
   "id": "3e2de07a",
   "metadata": {},
   "outputs": [],
   "source": [
    "Y = df.iloc[:,-1].values"
   ]
  },
  {
   "cell_type": "code",
   "execution_count": 8,
   "id": "51c37060",
   "metadata": {},
   "outputs": [
    {
     "data": {
      "text/plain": [
       "array([138, 138, 138, 139, 139, 139, 140, 140, 140, 141, 141, 141, 142,\n",
       "       142, 142, 143, 143, 143, 144, 144, 145, 145, 146, 146, 147, 147,\n",
       "       148, 148, 149, 149, 150, 150, 151, 152, 153, 155, 156, 157, 158,\n",
       "       159, 160, 161, 162, 163, 164, 164, 165, 166, 167, 168, 169, 170,\n",
       "       171, 172, 173, 175, 178, 180, 183, 185, 188, 190, 193, 195, 199,\n",
       "       203, 204, 205, 206, 207, 208], dtype=int64)"
      ]
     },
     "execution_count": 8,
     "metadata": {},
     "output_type": "execute_result"
    }
   ],
   "source": [
    "Y"
   ]
  },
  {
   "cell_type": "markdown",
   "id": "15f4abe9",
   "metadata": {},
   "source": [
    "## 5. Splitting Dataset for testing our model"
   ]
  },
  {
   "cell_type": "code",
   "execution_count": 9,
   "id": "430f1779",
   "metadata": {},
   "outputs": [],
   "source": [
    "from sklearn.model_selection import train_test_split\n",
    "X_train, X_test, y_train, y_test = train_test_split(X, Y, test_size=0.20, random_state=0)"
   ]
  },
  {
   "cell_type": "markdown",
   "id": "b71e849a",
   "metadata": {},
   "source": [
    "## 6. Training dataset using Decision Tree"
   ]
  },
  {
   "cell_type": "code",
   "execution_count": 10,
   "id": "b1ed3d55",
   "metadata": {},
   "outputs": [
    {
     "data": {
      "text/plain": [
       "DecisionTreeRegressor()"
      ]
     },
     "execution_count": 10,
     "metadata": {},
     "output_type": "execute_result"
    }
   ],
   "source": [
    "from sklearn.tree import DecisionTreeRegressor\n",
    "model = DecisionTreeRegressor()\n",
    "model.fit(X_train, y_train)"
   ]
  },
  {
   "cell_type": "markdown",
   "id": "a296c2d7",
   "metadata": {},
   "source": [
    "## 7. Visualizing graph"
   ]
  },
  {
   "cell_type": "code",
   "execution_count": 11,
   "id": "b685bb7c",
   "metadata": {},
   "outputs": [
    {
     "data": {
      "text/plain": [
       "<function matplotlib.pyplot.show(close=None, block=None)>"
      ]
     },
     "execution_count": 11,
     "metadata": {},
     "output_type": "execute_result"
    },
    {
     "data": {
      "image/png": "[encoded data removed]",
      "text/plain": [
       "<Figure size 432x288 with 1 Axes>"
      ]
     },
     "metadata": {
      "needs_background": "light"
     },
     "output_type": "display_data"
    },
    {
     "data": {
      "text/plain": [
       "<Figure size 432x288 with 0 Axes>"
      ]
     },
     "metadata": {},
     "output_type": "display_data"
    }
   ],
   "source": [
    "X_val = np.arange(min(X_train),max(X_train),0.01)\n",
    "X_val = X_val.reshape((len(X_val),1))\n",
    "plt.scatter(X_train, y_train, color='green')\n",
    "plt.plot(X_val, model.predict(X_val), color='red')\n",
    "plt.title('Height Prediction using Decision Tree')\n",
    "plt.xlabel('Age')\n",
    "plt.ylabel('Height')\n",
    "plt.figure()\n",
    "plt.show"
   ]
  },
  {
   "cell_type": "markdown",
   "id": "eadd5f43",
   "metadata": {},
   "source": [
    "## 8. Prediction for all test data for validation"
   ]
  },
  {
   "cell_type": "code",
   "execution_count": 12,
   "id": "2e67bb53",
   "metadata": {},
   "outputs": [
    {
     "name": "stdout",
     "output_type": "stream",
     "text": [
      "Root Mean Square Error: 1.3416407864998738\n",
      "R2 Score 99.42815994578109\n"
     ]
    }
   ],
   "source": [
    "y_pred = model.predict(X_test)\n",
    "\n",
    "from sklearn.metrics import r2_score, mean_squared_error\n",
    "mse = mean_squared_error(y_test, y_pred)\n",
    "rmse = np.sqrt(mse)\n",
    "print(\"Root Mean Square Error:\",rmse)\n",
    "r2score = r2_score(y_test,y_pred)\n",
    "print(\"R2 Score\",r2score*100)"
   ]
  },
  {
   "cell_type": "code",
   "execution_count": null,
   "id": "795b2d9c",
   "metadata": {},
   "outputs": [],
   "source": []
  }
 ],
 "metadata": {
  "kernelspec": {
   "display_name": "Python 3",
   "language": "python",
   "name": "python3"
  },
  "language_info": {
   "codemirror_mode": {
    "name": "ipython",
    "version": 3
   },
   "file_extension": ".py",
   "mimetype": "text/x-python",
   "name": "python",
   "nbconvert_exporter": "python",
   "pygments_lexer": "ipython3",
   "version": "3.8.8"
  }
 },
 "nbformat": 4,
 "nbformat_minor": 5
}
