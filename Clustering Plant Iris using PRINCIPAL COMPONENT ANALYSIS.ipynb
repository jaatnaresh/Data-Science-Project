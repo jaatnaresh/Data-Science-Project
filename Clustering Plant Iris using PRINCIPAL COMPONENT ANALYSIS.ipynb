{
 "cells": [
  {
   "cell_type": "markdown",
   "id": "01a7c630",
   "metadata": {},
   "source": [
    "## 1. Importing the basic libraries"
   ]
  },
  {
   "cell_type": "code",
   "execution_count": null,
   "id": "48c9e4d3",
   "metadata": {},
   "outputs": [],
   "source": [
    "from sklearn import datasets\n",
    "import matplotlib.pyplot as plt"
   ]
  },
  {
   "cell_type": "markdown",
   "id": "29c0d526",
   "metadata": {},
   "source": [
    "## 2. Importing the dataset"
   ]
  },
  {
   "cell_type": "code",
   "execution_count": null,
   "id": "aadfdf11",
   "metadata": {},
   "outputs": [],
   "source": [
    "df = datasets.load_iris()"
   ]
  },
  {
   "cell_type": "code",
   "execution_count": null,
   "id": "769b08e2",
   "metadata": {},
   "outputs": [],
   "source": [
    "df"
   ]
  },
  {
   "cell_type": "markdown",
   "id": "2c2a384b",
   "metadata": {},
   "source": [
    "## 3. Dataset Segregation"
   ]
  },
  {
   "cell_type": "code",
   "execution_count": null,
   "id": "98a2d7ff",
   "metadata": {},
   "outputs": [],
   "source": [
    "X = df.data\n",
    "y = df.target\n",
    "names = df.target_names"
   ]
  },
  {
   "cell_type": "markdown",
   "id": "f5c3e963",
   "metadata": {},
   "source": [
    "## 4. Finding the PCA clustering to the dataset with n=2"
   ]
  },
  {
   "cell_type": "code",
   "execution_count": null,
   "id": "eb47d701",
   "metadata": {},
   "outputs": [],
   "source": [
    "from sklearn.decomposition import PCA\n",
    "model = PCA(n_components=2) # number of componenets to keep (we can also remove n_comopnents,then it will take all components)\n",
    "y_means = model.fit(X).transform(X)"
   ]
  },
  {
   "cell_type": "markdown",
   "id": "4ec2aa5f",
   "metadata": {},
   "source": [
    "## 5. Various Percentage"
   ]
  },
  {
   "cell_type": "code",
   "execution_count": null,
   "id": "da94f129",
   "metadata": {},
   "outputs": [],
   "source": [
    "plt.figure()\n",
    "colors = ['red','green','orange']\n",
    "\n",
    "for color, i, target_name in zip(colors, [0,1,2], names):\n",
    "    plt.scatter(y_means[y == i,0], y_means[y==i,1], color=color, lw = 2, label=target_name)\n",
    "plt.title('IRIS Clusterring')\n",
    "plt.show()"
   ]
  },
  {
   "cell_type": "code",
   "execution_count": null,
   "id": "7eb92b41",
   "metadata": {},
   "outputs": [],
   "source": []
  }
 ],
 "metadata": {
  "kernelspec": {
   "display_name": "Python 3",
   "language": "python",
   "name": "python3"
  },
  "language_info": {
   "codemirror_mode": {
    "name": "ipython",
    "version": 3
   },
   "file_extension": ".py",
   "mimetype": "text/x-python",
   "name": "python",
   "nbconvert_exporter": "python",
   "pygments_lexer": "ipython3",
   "version": "3.8.8"
  }
 },
 "nbformat": 4,
 "nbformat_minor": 5
}
