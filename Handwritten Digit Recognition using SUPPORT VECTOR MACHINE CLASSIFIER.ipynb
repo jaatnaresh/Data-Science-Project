{
 "cells": [
  {
   "cell_type": "markdown",
   "id": "298c59d0",
   "metadata": {},
   "source": [
    "## 1. Importing Libraries"
   ]
  },
  {
   "cell_type": "code",
   "execution_count": 1,
   "id": "6bccf8a6",
   "metadata": {},
   "outputs": [],
   "source": [
    "import numpy as np\n",
    "from sklearn.datasets import load_digits"
   ]
  },
  {
   "cell_type": "markdown",
   "id": "dd55fece",
   "metadata": {},
   "source": [
    "## 2. Load dataset "
   ]
  },
  {
   "cell_type": "code",
   "execution_count": 2,
   "id": "ce232316",
   "metadata": {},
   "outputs": [
    {
     "data": {
      "text/plain": [
       "{'data': array([[ 0.,  0.,  5., ...,  0.,  0.,  0.],\n",
       "        [ 0.,  0.,  0., ..., 10.,  0.,  0.],\n",
       "        [ 0.,  0.,  0., ..., 16.,  9.,  0.],\n",
       "        ...,\n",
       "        [ 0.,  0.,  1., ...,  6.,  0.,  0.],\n",
       "        [ 0.,  0.,  2., ..., 12.,  0.,  0.],\n",
       "        [ 0.,  0., 10., ..., 12.,  1.,  0.]]),\n",
       " 'target': array([0, 1, 2, ..., 8, 9, 8]),\n",
       " 'frame': None,\n",
       " 'feature_names': ['pixel_0_0',\n",
       "  'pixel_0_1',\n",
       "  'pixel_0_2',\n",
       "  'pixel_0_3',\n",
       "  'pixel_0_4',\n",
       "  'pixel_0_5',\n",
       "  'pixel_0_6',\n",
       "  'pixel_0_7',\n",
       "  'pixel_1_0',\n",
       "  'pixel_1_1',\n",
       "  'pixel_1_2',\n",
       "  'pixel_1_3',\n",
       "  'pixel_1_4',\n",
       "  'pixel_1_5',\n",
       "  'pixel_1_6',\n",
       "  'pixel_1_7',\n",
       "  'pixel_2_0',\n",
       "  'pixel_2_1',\n",
       "  'pixel_2_2',\n",
       "  'pixel_2_3',\n",
       "  'pixel_2_4',\n",
       "  'pixel_2_5',\n",
       "  'pixel_2_6',\n",
       "  'pixel_2_7',\n",
       "  'pixel_3_0',\n",
       "  'pixel_3_1',\n",
       "  'pixel_3_2',\n",
       "  'pixel_3_3',\n",
       "  'pixel_3_4',\n",
       "  'pixel_3_5',\n",
       "  'pixel_3_6',\n",
       "  'pixel_3_7',\n",
       "  'pixel_4_0',\n",
       "  'pixel_4_1',\n",
       "  'pixel_4_2',\n",
       "  'pixel_4_3',\n",
       "  'pixel_4_4',\n",
       "  'pixel_4_5',\n",
       "  'pixel_4_6',\n",
       "  'pixel_4_7',\n",
       "  'pixel_5_0',\n",
       "  'pixel_5_1',\n",
       "  'pixel_5_2',\n",
       "  'pixel_5_3',\n",
       "  'pixel_5_4',\n",
       "  'pixel_5_5',\n",
       "  'pixel_5_6',\n",
       "  'pixel_5_7',\n",
       "  'pixel_6_0',\n",
       "  'pixel_6_1',\n",
       "  'pixel_6_2',\n",
       "  'pixel_6_3',\n",
       "  'pixel_6_4',\n",
       "  'pixel_6_5',\n",
       "  'pixel_6_6',\n",
       "  'pixel_6_7',\n",
       "  'pixel_7_0',\n",
       "  'pixel_7_1',\n",
       "  'pixel_7_2',\n",
       "  'pixel_7_3',\n",
       "  'pixel_7_4',\n",
       "  'pixel_7_5',\n",
       "  'pixel_7_6',\n",
       "  'pixel_7_7'],\n",
       " 'target_names': array([0, 1, 2, 3, 4, 5, 6, 7, 8, 9]),\n",
       " 'images': array([[[ 0.,  0.,  5., ...,  1.,  0.,  0.],\n",
       "         [ 0.,  0., 13., ..., 15.,  5.,  0.],\n",
       "         [ 0.,  3., 15., ..., 11.,  8.,  0.],\n",
       "         ...,\n",
       "         [ 0.,  4., 11., ..., 12.,  7.,  0.],\n",
       "         [ 0.,  2., 14., ..., 12.,  0.,  0.],\n",
       "         [ 0.,  0.,  6., ...,  0.,  0.,  0.]],\n",
       " \n",
       "        [[ 0.,  0.,  0., ...,  5.,  0.,  0.],\n",
       "         [ 0.,  0.,  0., ...,  9.,  0.,  0.],\n",
       "         [ 0.,  0.,  3., ...,  6.,  0.,  0.],\n",
       "         ...,\n",
       "         [ 0.,  0.,  1., ...,  6.,  0.,  0.],\n",
       "         [ 0.,  0.,  1., ...,  6.,  0.,  0.],\n",
       "         [ 0.,  0.,  0., ..., 10.,  0.,  0.]],\n",
       " \n",
       "        [[ 0.,  0.,  0., ..., 12.,  0.,  0.],\n",
       "         [ 0.,  0.,  3., ..., 14.,  0.,  0.],\n",
       "         [ 0.,  0.,  8., ..., 16.,  0.,  0.],\n",
       "         ...,\n",
       "         [ 0.,  9., 16., ...,  0.,  0.,  0.],\n",
       "         [ 0.,  3., 13., ..., 11.,  5.,  0.],\n",
       "         [ 0.,  0.,  0., ..., 16.,  9.,  0.]],\n",
       " \n",
       "        ...,\n",
       " \n",
       "        [[ 0.,  0.,  1., ...,  1.,  0.,  0.],\n",
       "         [ 0.,  0., 13., ...,  2.,  1.,  0.],\n",
       "         [ 0.,  0., 16., ..., 16.,  5.,  0.],\n",
       "         ...,\n",
       "         [ 0.,  0., 16., ..., 15.,  0.,  0.],\n",
       "         [ 0.,  0., 15., ..., 16.,  0.,  0.],\n",
       "         [ 0.,  0.,  2., ...,  6.,  0.,  0.]],\n",
       " \n",
       "        [[ 0.,  0.,  2., ...,  0.,  0.,  0.],\n",
       "         [ 0.,  0., 14., ..., 15.,  1.,  0.],\n",
       "         [ 0.,  4., 16., ..., 16.,  7.,  0.],\n",
       "         ...,\n",
       "         [ 0.,  0.,  0., ..., 16.,  2.,  0.],\n",
       "         [ 0.,  0.,  4., ..., 16.,  2.,  0.],\n",
       "         [ 0.,  0.,  5., ..., 12.,  0.,  0.]],\n",
       " \n",
       "        [[ 0.,  0., 10., ...,  1.,  0.,  0.],\n",
       "         [ 0.,  2., 16., ...,  1.,  0.,  0.],\n",
       "         [ 0.,  0., 15., ..., 15.,  0.,  0.],\n",
       "         ...,\n",
       "         [ 0.,  4., 16., ..., 16.,  6.,  0.],\n",
       "         [ 0.,  8., 16., ..., 16.,  8.,  0.],\n",
       "         [ 0.,  1.,  8., ..., 12.,  1.,  0.]]]),\n",
       " 'DESCR': \".. _digits_dataset:\\n\\nOptical recognition of handwritten digits dataset\\n--------------------------------------------------\\n\\n**Data Set Characteristics:**\\n\\n    :Number of Instances: 1797\\n    :Number of Attributes: 64\\n    :Attribute Information: 8x8 image of integer pixels in the range 0..16.\\n    :Missing Attribute Values: None\\n    :Creator: E. Alpaydin (alpaydin '@' boun.edu.tr)\\n    :Date: July; 1998\\n\\nThis is a copy of the test set of the UCI ML hand-written digits datasets\\nhttps://archive.ics.uci.edu/ml/datasets/Optical+Recognition+of+Handwritten+Digits\\n\\nThe data set contains images of hand-written digits: 10 classes where\\neach class refers to a digit.\\n\\nPreprocessing programs made available by NIST were used to extract\\nnormalized bitmaps of handwritten digits from a preprinted form. From a\\ntotal of 43 people, 30 contributed to the training set and different 13\\nto the test set. 32x32 bitmaps are divided into nonoverlapping blocks of\\n4x4 and the number of on pixels are counted in each block. This generates\\nan input matrix of 8x8 where each element is an integer in the range\\n0..16. This reduces dimensionality and gives invariance to small\\ndistortions.\\n\\nFor info on NIST preprocessing routines, see M. D. Garris, J. L. Blue, G.\\nT. Candela, D. L. Dimmick, J. Geist, P. J. Grother, S. A. Janet, and C.\\nL. Wilson, NIST Form-Based Handprint Recognition System, NISTIR 5469,\\n1994.\\n\\n.. topic:: References\\n\\n  - C. Kaynak (1995) Methods of Combining Multiple Classifiers and Their\\n    Applications to Handwritten Digit Recognition, MSc Thesis, Institute of\\n    Graduate Studies in Science and Engineering, Bogazici University.\\n  - E. Alpaydin, C. Kaynak (1998) Cascading Classifiers, Kybernetika.\\n  - Ken Tang and Ponnuthurai N. Suganthan and Xi Yao and A. Kai Qin.\\n    Linear dimensionalityreduction using relevance weighted LDA. School of\\n    Electrical and Electronic Engineering Nanyang Technological University.\\n    2005.\\n  - Claudio Gentile. A New Approximate Maximal Margin Classification\\n    Algorithm. NIPS. 2000.\\n\"}"
      ]
     },
     "execution_count": 2,
     "metadata": {},
     "output_type": "execute_result"
    }
   ],
   "source": [
    "df = load_digits()\n",
    "df"
   ]
  },
  {
   "cell_type": "markdown",
   "id": "0fb4c206",
   "metadata": {},
   "source": [
    "## 3. Summarize dataset"
   ]
  },
  {
   "cell_type": "code",
   "execution_count": 3,
   "id": "70e63dce",
   "metadata": {},
   "outputs": [
    {
     "name": "stdout",
     "output_type": "stream",
     "text": [
      "Data\n",
      "[[ 0.  0.  5. ...  0.  0.  0.]\n",
      " [ 0.  0.  0. ... 10.  0.  0.]\n",
      " [ 0.  0.  0. ... 16.  9.  0.]\n",
      " ...\n",
      " [ 0.  0.  1. ...  6.  0.  0.]\n",
      " [ 0.  0.  2. ... 12.  0.  0.]\n",
      " [ 0.  0. 10. ... 12.  1.  0.]]\n",
      "Target\n",
      "[0 1 2 ... 8 9 8]\n",
      "(1797, 64)\n",
      "(1797, 8, 8)\n",
      "1797\n"
     ]
    }
   ],
   "source": [
    "print(\"Data\")\n",
    "print(df.data)\n",
    "print(\"Target\")\n",
    "print(df.target)\n",
    "\n",
    "print(df.data.shape)\n",
    "print(df.images.shape)\n",
    "\n",
    "dataimageLength = len(df.images)\n",
    "print(dataimageLength)"
   ]
  },
  {
   "cell_type": "markdown",
   "id": "8c0179ff",
   "metadata": {},
   "source": [
    "## 4. Visualize the data"
   ]
  },
  {
   "cell_type": "code",
   "execution_count": 4,
   "id": "a33d5ade",
   "metadata": {},
   "outputs": [
    {
     "data": {
      "text/plain": [
       "<Figure size 432x288 with 0 Axes>"
      ]
     },
     "metadata": {},
     "output_type": "display_data"
    },
    {
     "data": {
      "image/png": "[encoded data removed]",
      "text/plain": [
       "<Figure size 288x288 with 1 Axes>"
      ]
     },
     "metadata": {
      "needs_background": "light"
     },
     "output_type": "display_data"
    },
    {
     "data": {
      "text/plain": [
       "array([[ 0.,  0.,  0., 12., 13.,  5.,  0.,  0.],\n",
       "       [ 0.,  0.,  0., 11., 16.,  9.,  0.,  0.],\n",
       "       [ 0.,  0.,  3., 15., 16.,  6.,  0.,  0.],\n",
       "       [ 0.,  7., 15., 16., 16.,  2.,  0.,  0.],\n",
       "       [ 0.,  0.,  1., 16., 16.,  3.,  0.,  0.],\n",
       "       [ 0.,  0.,  1., 16., 16.,  6.,  0.,  0.],\n",
       "       [ 0.,  0.,  1., 16., 16.,  6.,  0.,  0.],\n",
       "       [ 0.,  0.,  0., 11., 16., 10.,  0.,  0.]])"
      ]
     },
     "execution_count": 4,
     "metadata": {},
     "output_type": "execute_result"
    }
   ],
   "source": [
    "n=1 #number of sample out of total 1797 samples\n",
    "\n",
    "import matplotlib.pyplot as plt\n",
    "plt.gray()\n",
    "plt.matshow(df.images[n])\n",
    "plt.show()\n",
    "\n",
    "df.images[n] #matrix for this image"
   ]
  },
  {
   "cell_type": "markdown",
   "id": "58184e28",
   "metadata": {},
   "source": [
    "## 5. Segregate dataset into X(input) & Y(output)\n",
    "\n",
    "### Input - Pixel | Output - Class"
   ]
  },
  {
   "cell_type": "code",
   "execution_count": 5,
   "id": "cdfa12b2",
   "metadata": {},
   "outputs": [
    {
     "data": {
      "text/plain": [
       "array([[ 0.,  0.,  5., ...,  0.,  0.,  0.],\n",
       "       [ 0.,  0.,  0., ..., 10.,  0.,  0.],\n",
       "       [ 0.,  0.,  0., ..., 16.,  9.,  0.],\n",
       "       ...,\n",
       "       [ 0.,  0.,  1., ...,  6.,  0.,  0.],\n",
       "       [ 0.,  0.,  2., ..., 12.,  0.,  0.],\n",
       "       [ 0.,  0., 10., ..., 12.,  1.,  0.]])"
      ]
     },
     "execution_count": 5,
     "metadata": {},
     "output_type": "execute_result"
    }
   ],
   "source": [
    "X = df.images.reshape(dataimageLength,-1)\n",
    "X"
   ]
  },
  {
   "cell_type": "code",
   "execution_count": 6,
   "id": "735efe23",
   "metadata": {},
   "outputs": [
    {
     "data": {
      "text/plain": [
       "array([0, 1, 2, ..., 8, 9, 8])"
      ]
     },
     "execution_count": 6,
     "metadata": {},
     "output_type": "execute_result"
    }
   ],
   "source": [
    "Y = df.target\n",
    "Y"
   ]
  },
  {
   "cell_type": "markdown",
   "id": "464dcbd3",
   "metadata": {},
   "source": [
    "## 6. Splitting dataset into Train & Test"
   ]
  },
  {
   "cell_type": "code",
   "execution_count": 7,
   "id": "9e2b2222",
   "metadata": {},
   "outputs": [
    {
     "name": "stdout",
     "output_type": "stream",
     "text": [
      "(1347, 64)\n",
      "(450, 64)\n"
     ]
    }
   ],
   "source": [
    "from sklearn.model_selection import train_test_split\n",
    "X_train, X_test, y_train, y_test = train_test_split(X, Y, test_size=0.25, random_state=0)\n",
    "\n",
    "print(X_train.shape)\n",
    "print(X_test.shape)"
   ]
  },
  {
   "cell_type": "markdown",
   "id": "1e811af3",
   "metadata": {},
   "source": [
    "## 7. Training "
   ]
  },
  {
   "cell_type": "code",
   "execution_count": 8,
   "id": "86723a4c",
   "metadata": {},
   "outputs": [
    {
     "data": {
      "text/plain": [
       "SVC(kernel='linear')"
      ]
     },
     "execution_count": 8,
     "metadata": {},
     "output_type": "execute_result"
    }
   ],
   "source": [
    "from sklearn import svm\n",
    "model = svm.SVC(kernel='linear')\n",
    "model.fit(X_train, y_train)"
   ]
  },
  {
   "cell_type": "markdown",
   "id": "a7d1fc65",
   "metadata": {},
   "source": [
    "## 8. Predicting ,what the digit is from test data"
   ]
  },
  {
   "cell_type": "code",
   "execution_count": 9,
   "id": "8102cd82",
   "metadata": {},
   "outputs": [
    {
     "name": "stdout",
     "output_type": "stream",
     "text": [
      "[3]\n",
      "\n",
      "\n"
     ]
    },
    {
     "data": {
      "image/png": "[encoded data removed]",
      "text/plain": [
       "<Figure size 432x288 with 1 Axes>"
      ]
     },
     "metadata": {
      "needs_background": "light"
     },
     "output_type": "display_data"
    }
   ],
   "source": [
    "n=13 # last\n",
    "result = model.predict(df.images[n].reshape((1,-1)))\n",
    "plt.imshow(df.images[n], cmap=plt.cm.gray_r, interpolation='nearest')\n",
    "\n",
    "print(result)\n",
    "print(\"\\n\")\n",
    "plt.axis('off')\n",
    "plt.title(\"%i\" %result)\n",
    "plt.show()"
   ]
  },
  {
   "cell_type": "markdown",
   "id": "5a4b91bb",
   "metadata": {},
   "source": [
    "## 9. Prediction for test data"
   ]
  },
  {
   "cell_type": "code",
   "execution_count": 10,
   "id": "8543a37d",
   "metadata": {
    "scrolled": false
   },
   "outputs": [
    {
     "name": "stdout",
     "output_type": "stream",
     "text": [
      "[[2 2]\n",
      " [8 8]\n",
      " [2 2]\n",
      " [6 6]\n",
      " [6 6]\n",
      " [7 7]\n",
      " [1 1]\n",
      " [9 9]\n",
      " [8 8]\n",
      " [5 5]\n",
      " [2 2]\n",
      " [8 8]\n",
      " [6 6]\n",
      " [6 6]\n",
      " [6 6]\n",
      " [6 6]\n",
      " [1 1]\n",
      " [0 0]\n",
      " [5 5]\n",
      " [8 8]\n",
      " [8 8]\n",
      " [7 7]\n",
      " [8 8]\n",
      " [4 4]\n",
      " [7 7]\n",
      " [5 5]\n",
      " [4 4]\n",
      " [9 9]\n",
      " [2 2]\n",
      " [9 9]\n",
      " [4 4]\n",
      " [7 7]\n",
      " [6 6]\n",
      " [8 8]\n",
      " [9 9]\n",
      " [4 4]\n",
      " [3 3]\n",
      " [1 1]\n",
      " [0 0]\n",
      " [1 1]\n",
      " [8 8]\n",
      " [6 6]\n",
      " [7 7]\n",
      " [7 7]\n",
      " [1 1]\n",
      " [0 0]\n",
      " [7 7]\n",
      " [6 6]\n",
      " [2 2]\n",
      " [1 1]\n",
      " [9 9]\n",
      " [6 6]\n",
      " [7 7]\n",
      " [9 9]\n",
      " [0 0]\n",
      " [0 0]\n",
      " [5 5]\n",
      " [1 1]\n",
      " [6 6]\n",
      " [3 3]\n",
      " [0 0]\n",
      " [2 2]\n",
      " [3 3]\n",
      " [4 4]\n",
      " [1 1]\n",
      " [9 9]\n",
      " [2 2]\n",
      " [6 6]\n",
      " [9 9]\n",
      " [1 1]\n",
      " [8 8]\n",
      " [3 3]\n",
      " [5 5]\n",
      " [1 1]\n",
      " [2 2]\n",
      " [8 8]\n",
      " [2 2]\n",
      " [2 2]\n",
      " [9 9]\n",
      " [7 7]\n",
      " [2 2]\n",
      " [3 3]\n",
      " [6 6]\n",
      " [0 0]\n",
      " [5 5]\n",
      " [3 3]\n",
      " [7 7]\n",
      " [5 5]\n",
      " [1 1]\n",
      " [2 2]\n",
      " [9 9]\n",
      " [9 9]\n",
      " [3 3]\n",
      " [1 1]\n",
      " [7 7]\n",
      " [7 7]\n",
      " [4 4]\n",
      " [8 8]\n",
      " [5 5]\n",
      " [8 8]\n",
      " [5 5]\n",
      " [5 5]\n",
      " [2 2]\n",
      " [5 5]\n",
      " [9 9]\n",
      " [0 0]\n",
      " [7 7]\n",
      " [1 1]\n",
      " [4 4]\n",
      " [4 7]\n",
      " [3 3]\n",
      " [4 4]\n",
      " [8 8]\n",
      " [9 9]\n",
      " [7 7]\n",
      " [9 9]\n",
      " [8 8]\n",
      " [2 2]\n",
      " [1 6]\n",
      " [5 5]\n",
      " [2 2]\n",
      " [5 5]\n",
      " [8 8]\n",
      " [4 4]\n",
      " [1 8]\n",
      " [7 7]\n",
      " [0 0]\n",
      " [6 6]\n",
      " [1 1]\n",
      " [5 5]\n",
      " [5 9]\n",
      " [9 9]\n",
      " [9 9]\n",
      " [5 5]\n",
      " [9 9]\n",
      " [9 9]\n",
      " [5 5]\n",
      " [7 7]\n",
      " [5 5]\n",
      " [6 6]\n",
      " [2 2]\n",
      " [8 8]\n",
      " [6 6]\n",
      " [9 9]\n",
      " [6 6]\n",
      " [1 1]\n",
      " [5 5]\n",
      " [1 1]\n",
      " [5 5]\n",
      " [9 9]\n",
      " [9 9]\n",
      " [1 1]\n",
      " [5 5]\n",
      " [3 3]\n",
      " [6 6]\n",
      " [1 1]\n",
      " [8 8]\n",
      " [9 9]\n",
      " [8 8]\n",
      " [7 7]\n",
      " [6 6]\n",
      " [7 7]\n",
      " [6 6]\n",
      " [5 5]\n",
      " [6 6]\n",
      " [0 0]\n",
      " [8 8]\n",
      " [8 8]\n",
      " [9 9]\n",
      " [8 8]\n",
      " [6 6]\n",
      " [1 1]\n",
      " [0 0]\n",
      " [4 4]\n",
      " [1 1]\n",
      " [6 6]\n",
      " [3 3]\n",
      " [8 8]\n",
      " [6 6]\n",
      " [7 7]\n",
      " [4 4]\n",
      " [9 5]\n",
      " [6 6]\n",
      " [3 3]\n",
      " [0 0]\n",
      " [3 3]\n",
      " [3 3]\n",
      " [3 3]\n",
      " [0 0]\n",
      " [7 7]\n",
      " [7 7]\n",
      " [5 5]\n",
      " [7 7]\n",
      " [8 8]\n",
      " [0 0]\n",
      " [7 7]\n",
      " [1 8]\n",
      " [9 9]\n",
      " [6 6]\n",
      " [4 4]\n",
      " [5 5]\n",
      " [0 0]\n",
      " [1 1]\n",
      " [4 4]\n",
      " [6 6]\n",
      " [4 4]\n",
      " [3 3]\n",
      " [3 3]\n",
      " [0 0]\n",
      " [9 9]\n",
      " [5 5]\n",
      " [3 9]\n",
      " [2 2]\n",
      " [1 1]\n",
      " [4 4]\n",
      " [2 2]\n",
      " [1 1]\n",
      " [6 6]\n",
      " [8 8]\n",
      " [9 9]\n",
      " [2 2]\n",
      " [4 4]\n",
      " [9 9]\n",
      " [3 3]\n",
      " [7 7]\n",
      " [6 6]\n",
      " [2 2]\n",
      " [3 3]\n",
      " [3 3]\n",
      " [1 1]\n",
      " [6 6]\n",
      " [9 9]\n",
      " [3 3]\n",
      " [6 6]\n",
      " [3 3]\n",
      " [2 2]\n",
      " [2 2]\n",
      " [0 0]\n",
      " [7 7]\n",
      " [6 6]\n",
      " [1 1]\n",
      " [1 1]\n",
      " [9 9]\n",
      " [7 7]\n",
      " [2 2]\n",
      " [7 7]\n",
      " [8 8]\n",
      " [5 5]\n",
      " [5 5]\n",
      " [7 7]\n",
      " [5 5]\n",
      " [2 2]\n",
      " [3 3]\n",
      " [7 7]\n",
      " [2 2]\n",
      " [7 7]\n",
      " [5 5]\n",
      " [5 5]\n",
      " [7 7]\n",
      " [0 0]\n",
      " [9 9]\n",
      " [1 1]\n",
      " [6 6]\n",
      " [5 5]\n",
      " [9 9]\n",
      " [7 7]\n",
      " [4 4]\n",
      " [3 3]\n",
      " [8 8]\n",
      " [0 0]\n",
      " [3 3]\n",
      " [6 6]\n",
      " [4 4]\n",
      " [6 6]\n",
      " [3 3]\n",
      " [2 2]\n",
      " [6 6]\n",
      " [8 8]\n",
      " [8 8]\n",
      " [8 8]\n",
      " [4 4]\n",
      " [6 6]\n",
      " [7 7]\n",
      " [5 5]\n",
      " [2 2]\n",
      " [4 4]\n",
      " [5 5]\n",
      " [3 3]\n",
      " [2 2]\n",
      " [4 4]\n",
      " [6 6]\n",
      " [9 9]\n",
      " [4 4]\n",
      " [5 5]\n",
      " [4 4]\n",
      " [3 3]\n",
      " [4 4]\n",
      " [6 6]\n",
      " [2 2]\n",
      " [9 9]\n",
      " [0 0]\n",
      " [1 1]\n",
      " [7 7]\n",
      " [2 2]\n",
      " [0 0]\n",
      " [9 9]\n",
      " [6 6]\n",
      " [0 0]\n",
      " [4 4]\n",
      " [2 2]\n",
      " [0 0]\n",
      " [7 7]\n",
      " [9 9]\n",
      " [8 8]\n",
      " [5 5]\n",
      " [4 4]\n",
      " [8 8]\n",
      " [2 2]\n",
      " [8 8]\n",
      " [4 4]\n",
      " [3 3]\n",
      " [7 7]\n",
      " [2 2]\n",
      " [6 6]\n",
      " [9 9]\n",
      " [1 1]\n",
      " [5 5]\n",
      " [1 1]\n",
      " [0 0]\n",
      " [8 8]\n",
      " [2 2]\n",
      " [8 1]\n",
      " [9 9]\n",
      " [5 5]\n",
      " [6 6]\n",
      " [2 8]\n",
      " [2 2]\n",
      " [7 7]\n",
      " [2 2]\n",
      " [1 1]\n",
      " [5 5]\n",
      " [1 1]\n",
      " [6 6]\n",
      " [4 4]\n",
      " [5 5]\n",
      " [0 0]\n",
      " [9 9]\n",
      " [4 4]\n",
      " [1 1]\n",
      " [1 1]\n",
      " [7 7]\n",
      " [0 0]\n",
      " [8 8]\n",
      " [9 9]\n",
      " [0 0]\n",
      " [5 5]\n",
      " [4 4]\n",
      " [3 3]\n",
      " [8 8]\n",
      " [8 8]\n",
      " [6 6]\n",
      " [5 5]\n",
      " [3 3]\n",
      " [4 4]\n",
      " [4 4]\n",
      " [4 4]\n",
      " [8 8]\n",
      " [8 8]\n",
      " [7 7]\n",
      " [0 0]\n",
      " [9 9]\n",
      " [6 6]\n",
      " [3 3]\n",
      " [5 5]\n",
      " [2 2]\n",
      " [3 3]\n",
      " [0 0]\n",
      " [8 8]\n",
      " [8 3]\n",
      " [3 3]\n",
      " [1 1]\n",
      " [3 3]\n",
      " [3 3]\n",
      " [0 0]\n",
      " [0 0]\n",
      " [4 4]\n",
      " [6 6]\n",
      " [0 0]\n",
      " [7 7]\n",
      " [7 7]\n",
      " [6 6]\n",
      " [2 2]\n",
      " [0 0]\n",
      " [4 4]\n",
      " [4 4]\n",
      " [2 2]\n",
      " [3 3]\n",
      " [7 7]\n",
      " [1 8]\n",
      " [9 9]\n",
      " [8 8]\n",
      " [6 6]\n",
      " [8 8]\n",
      " [5 5]\n",
      " [6 6]\n",
      " [2 2]\n",
      " [2 2]\n",
      " [3 3]\n",
      " [1 1]\n",
      " [7 7]\n",
      " [7 7]\n",
      " [8 8]\n",
      " [0 0]\n",
      " [3 3]\n",
      " [3 3]\n",
      " [2 2]\n",
      " [1 1]\n",
      " [5 5]\n",
      " [5 5]\n",
      " [9 9]\n",
      " [1 1]\n",
      " [3 3]\n",
      " [7 7]\n",
      " [0 0]\n",
      " [0 0]\n",
      " [7 7]\n",
      " [0 0]\n",
      " [4 4]\n",
      " [5 5]\n",
      " [8 9]\n",
      " [9 3]\n",
      " [3 3]\n",
      " [4 4]\n",
      " [3 3]\n",
      " [1 1]\n",
      " [8 8]\n",
      " [9 9]\n",
      " [8 8]\n",
      " [3 3]\n",
      " [6 6]\n",
      " [2 2]\n",
      " [1 1]\n",
      " [6 6]\n",
      " [2 2]\n",
      " [1 1]\n",
      " [7 7]\n",
      " [5 5]\n",
      " [5 5]\n",
      " [1 1]\n",
      " [9 9]]\n"
     ]
    }
   ],
   "source": [
    "y_pred = model.predict(X_test)\n",
    "print(np.concatenate((y_pred.reshape(len(y_pred),1), y_test.reshape(len(y_test),1)),1))"
   ]
  },
  {
   "cell_type": "markdown",
   "id": "37e89d0b",
   "metadata": {},
   "source": [
    "## 10. Evaluate Model - Accuracy Score"
   ]
  },
  {
   "cell_type": "code",
   "execution_count": 11,
   "id": "6b4942bf",
   "metadata": {},
   "outputs": [
    {
     "name": "stdout",
     "output_type": "stream",
     "text": [
      "Accuracy of the Model: 97.11111111111111%\n"
     ]
    }
   ],
   "source": [
    "from sklearn.metrics import accuracy_score\n",
    "print(\"Accuracy of the Model: {0}%\".format(accuracy_score(y_test, y_pred)*100))"
   ]
  },
  {
   "cell_type": "markdown",
   "id": "7be0ae42",
   "metadata": {},
   "source": [
    "## 11. Play with different model"
   ]
  },
  {
   "cell_type": "code",
   "execution_count": 12,
   "id": "72051aea",
   "metadata": {},
   "outputs": [
    {
     "name": "stdout",
     "output_type": "stream",
     "text": [
      "Accuracy of the Model 1: 97.11111111111111%\n",
      "Accuracy of the Model 2: 99.11111111111111%\n",
      "Accuracy of the Model 3: 99.55555555555556%\n",
      "Accuracy of the Model 4: 96.66666666666667%\n"
     ]
    }
   ],
   "source": [
    "from sklearn import svm\n",
    "model1 = svm.SVC(kernel='linear')\n",
    "model2 = svm.SVC(kernel='rbf')\n",
    "model3 = svm.SVC(gamma=0.001)\n",
    "model4 = svm.SVC(gamma=0.001,C=0.1)\n",
    "\n",
    "model1.fit(X_train,y_train)\n",
    "model2.fit(X_train,y_train)\n",
    "model3.fit(X_train,y_train)\n",
    "model4.fit(X_train,y_train)\n",
    "\n",
    "y_predModel1 = model1.predict(X_test)\n",
    "y_predModel2 = model2.predict(X_test)\n",
    "y_predModel3 = model3.predict(X_test)\n",
    "y_predModel4 = model4.predict(X_test)\n",
    "\n",
    "print(\"Accuracy of the Model 1: {0}%\".format(accuracy_score(y_test, y_predModel1)*100))\n",
    "print(\"Accuracy of the Model 2: {0}%\".format(accuracy_score(y_test, y_predModel2)*100))\n",
    "print(\"Accuracy of the Model 3: {0}%\".format(accuracy_score(y_test, y_predModel3)*100))\n",
    "print(\"Accuracy of the Model 4: {0}%\".format(accuracy_score(y_test, y_predModel4)*100))"
   ]
  },
  {
   "cell_type": "code",
   "execution_count": null,
   "id": "f829657b",
   "metadata": {},
   "outputs": [],
   "source": []
  }
 ],
 "metadata": {
  "kernelspec": {
   "display_name": "Python 3",
   "language": "python",
   "name": "python3"
  },
  "language_info": {
   "codemirror_mode": {
    "name": "ipython",
    "version": 3
   },
   "file_extension": ".py",
   "mimetype": "text/x-python",
   "name": "python",
   "nbconvert_exporter": "python",
   "pygments_lexer": "ipython3",
   "version": "3.8.8"
  }
 },
 "nbformat": 4,
 "nbformat_minor": 5
}
